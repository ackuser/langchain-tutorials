{
 "cells": [
  {
   "cell_type": "code",
   "execution_count": 1,
   "id": "8d806f1b",
   "metadata": {},
   "outputs": [
    {
     "name": "stderr",
     "output_type": "stream",
     "text": [
      "1:1 - Unexpected keyword or identifier.\n",
      "1:1 - Cannot find name 'Cell'.\n",
      "1:7 - ';' expected.\n",
      "1:9 - Unexpected keyword or identifier.\n",
      "1:9 - Cannot find name 'Load'.\n",
      "1:14 - Unexpected keyword or identifier.\n",
      "1:14 - Cannot find name 'Environment'.\n",
      "1:26 - Cannot find name 'Variables'.\n"
     ]
    }
   ],
   "source": [
    "Cell 1: Load Environment Variables"
   ]
  },
  {
   "cell_type": "code",
   "execution_count": 2,
   "id": "bd4b8651",
   "metadata": {},
   "outputs": [
    {
     "name": "stderr",
     "output_type": "stream",
     "text": [
      "Error: Missing OPENAI_API_KEY environment variable\n",
      "    at evalmachine.<anonymous>:31:11\n",
      "    at evalmachine.<anonymous>:52:3\n",
      "\u001b[90m    at sigintHandlersWrap (node:vm:280:12)\u001b[39m\n",
      "\u001b[90m    at Script.runInThisContext (node:vm:135:14)\u001b[39m\n",
      "\u001b[90m    at Object.runInThisContext (node:vm:317:38)\u001b[39m\n",
      "    at Object.execute (/home/karim/.nvm/versions/node/v22.14.0/lib/node_modules/\u001b[4mtslab\u001b[24m/dist/executor.js:160:38)\n",
      "    at JupyterHandlerImpl.handleExecuteImpl (/home/karim/.nvm/versions/node/v22.14.0/lib/node_modules/\u001b[4mtslab\u001b[24m/dist/jupyter.js:250:38)\n",
      "    at /home/karim/.nvm/versions/node/v22.14.0/lib/node_modules/\u001b[4mtslab\u001b[24m/dist/jupyter.js:208:57\n",
      "    at async JupyterHandlerImpl.handleExecute (/home/karim/.nvm/versions/node/v22.14.0/lib/node_modules/\u001b[4mtslab\u001b[24m/dist/jupyter.js:208:21)\n",
      "    at async ZmqServer.handleExecute (/home/karim/.nvm/versions/node/v22.14.0/lib/node_modules/\u001b[4mtslab\u001b[24m/dist/jupyter.js:406:25)\n"
     ]
    }
   ],
   "source": [
    "// Load environment variables\n",
    "import * as dotenv from \"dotenv\";\n",
    "dotenv.config();\n",
    "\n",
    "if (!process.env.OPENAI_API_KEY) {\n",
    "  throw new Error(\"Missing OPENAI_API_KEY environment variable\");\n",
    "}\n",
    "\n",
    "// Import LangChain modules\n",
    "import { ChatOpenAI } from \"@langchain/openai\";\n",
    "import { HumanMessage, SystemMessage } from \"@langchain/core/messages\";\n",
    "\n",
    "// Define and run the function\n",
    "const run = async () => {\n",
    "  const model = new ChatOpenAI({ openAIApiKey: process.env.OPENAI_API_KEY, model: \"gpt-4\" });\n",
    "\n",
    "  const messages = [\n",
    "    new SystemMessage(\"Translate the following from English into Italian\"),\n",
    "    new HumanMessage(\"hi!\"),\n",
    "  ];\n",
    "\n",
    "  const response = await model.invoke(messages);\n",
    "  console.log(response);\n",
    "};\n",
    "\n",
    "await run();"
   ]
  },
  {
   "cell_type": "code",
   "execution_count": null,
   "id": "f5c60165",
   "metadata": {},
   "outputs": [],
   "source": []
  }
 ],
 "metadata": {
  "kernelspec": {
   "display_name": "TypeScript",
   "language": "typescript",
   "name": "tslab"
  },
  "language_info": {
   "codemirror_mode": {
    "mode": "typescript",
    "name": "javascript",
    "typescript": true
   },
   "file_extension": ".ts",
   "mimetype": "text/typescript",
   "name": "typescript",
   "version": "3.7.2"
  }
 },
 "nbformat": 4,
 "nbformat_minor": 5
}
