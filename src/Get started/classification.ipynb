{
 "cells": [
  {
   "cell_type": "markdown",
   "id": "518ad7fe",
   "metadata": {},
   "source": [
    "## Classify Text into Labels\n",
    "\n",
    "https://js.langchain.com/docs/tutorials/classification/\n",
    "\n",
    "\n",
    "Tagging means labeling a document with classes such as:\n",
    "\n",
    "- sentiment\n",
    "- language\n",
    "- style (formal, informal etc.)\n",
    "- covered topics\n",
    "- political tendency\n",
    "\n",
    "![Overview](../../assets/images/classification_workflow.png)\n"
   ]
  },
  {
   "cell_type": "markdown",
   "id": "d5e1c479",
   "metadata": {},
   "source": [
    "#### Quickstart"
   ]
  },
  {
   "cell_type": "code",
   "execution_count": 3,
   "id": "8d806f1b",
   "metadata": {},
   "outputs": [
    {
     "name": "stderr",
     "output_type": "stream",
     "text": [
      "evalmachine.<anonymous>:32\n",
      "    throw new Error(\"Missing OPENAI_API_KEY environment variable\");\n",
      "    ^\n",
      "\n",
      "Error: Missing OPENAI_API_KEY environment variable\n",
      "    at evalmachine.<anonymous>:32:11\n",
      "    at evalmachine.<anonymous>:42:3\n",
      "    at sigintHandlersWrap (node:vm:280:12)\n",
      "    at Script.runInThisContext (node:vm:135:14)\n",
      "    at Object.runInThisContext (node:vm:317:38)\n",
      "    at Object.execute (/home/karim/.nvm/versions/node/v22.14.0/lib/node_modules/tslab/dist/executor.js:160:38)\n",
      "    at JupyterHandlerImpl.handleExecuteImpl (/home/karim/.nvm/versions/node/v22.14.0/lib/node_modules/tslab/dist/jupyter.js:250:38)\n",
      "    at /home/karim/.nvm/versions/node/v22.14.0/lib/node_modules/tslab/dist/jupyter.js:208:57\n",
      "    at async JupyterHandlerImpl.handleExecute (/home/karim/.nvm/versions/node/v22.14.0/lib/node_modules/tslab/dist/jupyter.js:208:21)\n",
      "    at async ZmqServer.handleExecute (/home/karim/.nvm/versions/node/v22.14.0/lib/node_modules/tslab/dist/jupyter.js:406:25)\n"
     ]
    }
   ],
   "source": [
    "// Load environment variables\n",
    "import * as dotenv from \"dotenv\";\n",
    "dotenv.config();\n",
    "// Check if the OPENAI_API_KEY environment variable is set\n",
    "if (!process.env.OPENAI_API_KEY) {\n",
    "  throw new Error(\"Missing OPENAI_API_KEY environment variable\");\n",
    "}\n",
    "\n",
    "import { ChatOpenAI } from \"@langchain/openai\";\n",
    "const llm = new ChatOpenAI({\n",
    "  model: \"gpt-4o-mini\",\n",
    "  temperature: 0\n",
    "});"
   ]
  },
  {
   "cell_type": "markdown",
   "id": "439342b2",
   "metadata": {},
   "source": [
    "#### Loading documents"
   ]
  },
  {
   "cell_type": "code",
   "execution_count": 2,
   "id": "bd4b8651",
   "metadata": {},
   "outputs": [
    {
     "name": "stdout",
     "output_type": "stream",
     "text": [
      "107\n"
     ]
    }
   ],
   "source": [
    "import { PDFLoader } from \"@langchain/community/document_loaders/fs/pdf\";\n",
    "\n",
    "const loader = new PDFLoader(\"./data/nke-10k-2023.pdf\");\n",
    "\n",
    "const docs = await loader.load();\n",
    "console.log(docs.length);"
   ]
  },
  {
   "cell_type": "markdown",
   "id": "f58dac7f",
   "metadata": {},
   "source": [
    "* The string content of the page"
   ]
  },
  {
   "cell_type": "code",
   "execution_count": 4,
   "id": "f5c60165",
   "metadata": {},
   "outputs": [
    {
     "name": "stdout",
     "output_type": "stream",
     "text": [
      "Table of Contents\n",
      "UNITED STATES\n",
      "SECURITIES AND EXCHANGE COMMISSION\n",
      "Washington, D.C. 20549\n",
      "FORM 10-K\n",
      "(Mark One)\n",
      "☑ ANNUAL REPORT PURSUANT TO SECTION 13 OR 15(D) OF THE SECURITIES EXCHANGE ACT OF 1934\n",
      "FO\n"
     ]
    }
   ],
   "source": [
    "docs[0].pageContent.slice(0, 200);"
   ]
  },
  {
   "cell_type": "markdown",
   "id": "ac2539f3",
   "metadata": {},
   "source": [
    "*  Metadata containing the file name and page number"
   ]
  },
  {
   "cell_type": "code",
   "execution_count": 5,
   "id": "1b7f9fc1",
   "metadata": {},
   "outputs": [
    {
     "name": "stdout",
     "output_type": "stream",
     "text": [
      "{\n",
      "  source: './data/nke-10k-2023.pdf',\n",
      "  pdf: {\n",
      "    version: '1.10.100',\n",
      "    info: {\n",
      "      PDFFormatVersion: '1.4',\n",
      "      IsAcroFormPresent: false,\n",
      "      IsXFAPresent: false,\n",
      "      Title: '0000320187-23-000039',\n",
      "      Author: 'EDGAR Online, a division of Donnelley Financial Solutions',\n",
      "      Subject: 'Form 10-K filed on 2023-07-20 for the period ending 2023-05-31',\n",
      "      Keywords: '0000320187-23-000039; ; 10-K',\n",
      "      Creator: 'EDGAR Filing HTML Converter',\n",
      "      Producer: 'EDGRpdf Service w/ EO.Pdf 22.0.40.0',\n",
      "      CreationDate: \"D:20230720162200-04'00'\",\n",
      "      ModDate: \"D:20230720162208-04'00'\"\n",
      "    },\n",
      "    metadata: null,\n",
      "    totalPages: 107\n",
      "  },\n",
      "  loc: { pageNumber: 1 }\n",
      "}\n"
     ]
    }
   ],
   "source": [
    "docs[0].metadata;"
   ]
  },
  {
   "cell_type": "markdown",
   "id": "f8feead5",
   "metadata": {},
   "source": [
    "* Splitting"
   ]
  },
  {
   "cell_type": "code",
   "execution_count": 6,
   "id": "858a5ba1",
   "metadata": {},
   "outputs": [
    {
     "name": "stdout",
     "output_type": "stream",
     "text": [
      "513\n"
     ]
    }
   ],
   "source": [
    "import { RecursiveCharacterTextSplitter } from \"@langchain/textsplitters\";\n",
    "\n",
    "const textSplitter = new RecursiveCharacterTextSplitter({\n",
    "  chunkSize: 1000,\n",
    "  chunkOverlap: 200,\n",
    "});\n",
    "\n",
    "const allSplits = await textSplitter.splitDocuments(docs);\n",
    "\n",
    "allSplits.length;"
   ]
  },
  {
   "cell_type": "markdown",
   "id": "2bb35128",
   "metadata": {},
   "source": [
    "#### Embeddings"
   ]
  },
  {
   "cell_type": "code",
   "execution_count": 7,
   "id": "c4e8c461",
   "metadata": {},
   "outputs": [
    {
     "name": "stdout",
     "output_type": "stream",
     "text": [
      "Generated vectors of length 3072\n",
      "\n",
      "[\n",
      "  0.014386530965566635,\n",
      "  -0.01680644601583481,\n",
      "  -0.0011675760615617037,\n",
      "  0.010676880367100239,\n",
      "  0.02285623550415039,\n",
      "  -0.02829439751803875,\n",
      "  -0.000561766151804477,\n",
      "  0.04193633794784546,\n",
      "  -0.0011202081805095077,\n",
      "  0.06616208702325821\n",
      "]\n"
     ]
    }
   ],
   "source": [
    "// Load environment variables\n",
    "import * as dotenv from \"dotenv\";\n",
    "dotenv.config();\n",
    "\n",
    "if (!process.env.OPENAI_API_KEY) {\n",
    "  throw new Error(\"Missing OPENAI_API_KEY environment variable\");\n",
    "}\n",
    "\n",
    "import { OpenAIEmbeddings } from \"@langchain/openai\";\n",
    "\n",
    "const embeddings = new OpenAIEmbeddings({\n",
    "  model: \"text-embedding-3-large\"\n",
    "});\n",
    "\n",
    "const vector1 = await embeddings.embedQuery(allSplits[0].pageContent);\n",
    "const vector2 = await embeddings.embedQuery(allSplits[1].pageContent);\n",
    "\n",
    "console.assert(vector1.length === vector2.length);\n",
    "console.log(`Generated vectors of length ${vector1.length}\\n`);\n",
    "console.log(vector1.slice(0, 10));"
   ]
  },
  {
   "cell_type": "markdown",
   "id": "7fb127a3",
   "metadata": {},
   "source": [
    "#### Vector stores"
   ]
  },
  {
   "cell_type": "code",
   "execution_count": 8,
   "id": "7f887d49",
   "metadata": {},
   "outputs": [],
   "source": [
    "import { MemoryVectorStore } from \"langchain/vectorstores/memory\";\n",
    "\n",
    "const vectorStore = new MemoryVectorStore(embeddings);\n",
    "await vectorStore.addDocuments(allSplits);\n"
   ]
  },
  {
   "cell_type": "markdown",
   "id": "aa40e4e2",
   "metadata": {},
   "source": [
    "* Usage"
   ]
  },
  {
   "cell_type": "code",
   "execution_count": 9,
   "id": "643d55cb",
   "metadata": {},
   "outputs": [
    {
     "name": "stdout",
     "output_type": "stream",
     "text": [
      "Document {\n",
      "  pageContent: 'Table of Contents\\n' +\n",
      "    'PART I\\n' +\n",
      "    'ITEM 1. BUSINESS\\n' +\n",
      "    'GENERAL\\n' +\n",
      "    'NIKE, Inc. was incorporated in 1967 under the laws of the State of Oregon. As used in this Annual Report on Form 10-K (this \"Annual Report\"), the terms \"we,\" \"us,\" \"our,\"\\n' +\n",
      "    '\"NIKE\" and the \"Company\" refer to NIKE, Inc. and its predecessors, subsidiaries and affiliates, collectively, unless the context indicates otherwise.\\n' +\n",
      "    'Our principal business activity is the design, development and worldwide marketing and selling of athletic footwear, apparel, equipment, accessories and services. NIKE is\\n' +\n",
      "    'the largest seller of athletic footwear and apparel in the world. We sell our products through NIKE Direct operations, which are comprised of both NIKE-owned retail stores\\n' +\n",
      "    'and sales through our digital platforms (also referred to as \"NIKE Brand Digital\"), to retail accounts and to a mix of independent distributors, licensees and sales',\n",
      "  metadata: {\n",
      "    source: './data/nke-10k-2023.pdf',\n",
      "    pdf: {\n",
      "      version: '1.10.100',\n",
      "      info: [Object],\n",
      "      metadata: null,\n",
      "      totalPages: 107\n",
      "    },\n",
      "    loc: { pageNumber: 4, lines: [Object] }\n",
      "  },\n",
      "  id: undefined\n",
      "}\n"
     ]
    }
   ],
   "source": [
    "const results1 = await vectorStore.similaritySearch(\n",
    "    \"When was Nike incorporated?\"\n",
    "  );\n",
    "  \n",
    "  results1[0];"
   ]
  },
  {
   "cell_type": "code",
   "execution_count": 10,
   "id": "2a6cf32c",
   "metadata": {},
   "outputs": [
    {
     "name": "stdout",
     "output_type": "stream",
     "text": [
      "[\n",
      "  Document {\n",
      "    pageContent: 'Table of Contents\\n' +\n",
      "      'FISCAL 2023 NIKE BRAND REVENUE HIGHLIGHTS\\n' +\n",
      "      'The following tables present NIKE Brand revenues disaggregated by reportable operating segment, distribution channel and major product line:\\n' +\n",
      "      'FISCAL 2023 COMPARED TO FISCAL 2022\\n' +\n",
      "      '•NIKE, Inc. Revenues were $51.2 billion in fiscal 2023, which increased 10% and 16% compared to fiscal 2022 on a reported and currency-neutral basis, respectively.\\n' +\n",
      "      'The increase was due to higher revenues in North America, Europe, Middle East & Africa (\"EMEA\"), APLA and Greater China, which contributed approximately 7, 6,\\n' +\n",
      "      '2 and 1 percentage points to NIKE, Inc. Revenues, respectively.\\n' +\n",
      "      '•NIKE Brand revenues, which represented over 90% of NIKE, Inc. Revenues, increased 10% and 16% on a reported and currency-neutral basis, respectively. This\\n' +\n",
      "      \"increase was primarily due to higher revenues in Men's, the Jordan Brand, Women's and Kids' which grew 17%, 35%,11% and 10%, respectively, on a wholesale\\n\" +\n",
      "      'equivalent basis.',\n",
      "    metadata: { source: './data/nke-10k-2023.pdf', pdf: [Object], loc: [Object] },\n",
      "    id: undefined\n",
      "  },\n",
      "  0.6998359193673667\n",
      "]\n"
     ]
    }
   ],
   "source": [
    "const results2 = await vectorStore.similaritySearchWithScore(\n",
    "  \"What was Nike's revenue in 2023?\"\n",
    ");\n",
    "\n",
    "results2[0];"
   ]
  },
  {
   "cell_type": "markdown",
   "id": "d8e0b6d3",
   "metadata": {},
   "source": [
    "The difference between **Cell 11** and **Cell 12** lies in how they perform similarity searches in the vector store and the type of input they use for the search.\n",
    "\n",
    "---\n",
    "\n",
    "### **Cell 11**\n"
   ]
  },
  {
   "cell_type": "code",
   "execution_count": null,
   "id": "def0d38e",
   "metadata": {},
   "outputs": [],
   "source": [
    "const embedding = await embeddings.embedQuery(\n",
    "    \"How were Nike's margins impacted in 2023?\"\n",
    "  );\n",
    "  \n",
    "const results3 = await vectorStore.similaritySearchVectorWithScore(\n",
    "    embedding,\n",
    "    1\n",
    "  );\n",
    "  \n",
    "results3[0];"
   ]
  },
  {
   "cell_type": "markdown",
   "id": "d528cb76",
   "metadata": {},
   "source": [
    "\n",
    "\n",
    "#### **Key Details**:\n",
    "1. **Input**:\n",
    "   - The query string `\"How were Nike's margins impacted in 2023?\"` is first embedded into a vector using `embeddings.embedQuery`.\n",
    "   - The resulting embedding (a numerical vector) is then passed to `similaritySearchVectorWithScore`.\n",
    "\n",
    "2. **Method Used**:\n",
    "   - `similaritySearchVectorWithScore` performs a similarity search directly using the precomputed embedding vector.\n",
    "\n",
    "3. **Output**:\n",
    "   - Returns the most similar document(s) to the query embedding along with their similarity scores.\n",
    "   - The `1` argument specifies that only the top result should be returned.\n",
    "\n",
    "4. **Use Case**:\n",
    "   - Use this when you already have a precomputed embedding for the query or want to control the embedding process separately.\n",
    "\n",
    "---\n",
    "\n",
    "### **Cell 12**\n"
   ]
  },
  {
   "cell_type": "code",
   "execution_count": null,
   "id": "190c8fe3",
   "metadata": {},
   "outputs": [],
   "source": [
    "const results2 = await vectorStore.similaritySearchWithScore(\n",
    "  \"What was Nike's revenue in 2023?\"\n",
    ");\n",
    "\n",
    "results2[0];"
   ]
  },
  {
   "cell_type": "markdown",
   "id": "0bb2a064",
   "metadata": {},
   "source": [
    "\n",
    "\n",
    "#### **Key Details**:\n",
    "1. **Input**:\n",
    "   - The query string `\"What was Nike's revenue in 2023?\"` is passed directly to the `similaritySearchWithScore` method.\n",
    "\n",
    "2. **Method Used**:\n",
    "   - `similaritySearchWithScore` internally embeds the query string using the `embeddings` instance associated with the `vectorStore`.\n",
    "   - It then performs a similarity search using the generated embedding.\n",
    "\n",
    "3. **Output**:\n",
    "   - Returns the most similar document(s) to the query embedding along with their similarity scores.\n",
    "   - By default, it may return multiple results unless limited by additional arguments.\n",
    "\n",
    "4. **Use Case**:\n",
    "   - Use this when you want to perform a similarity search directly with a query string without manually embedding it first.\n",
    "\n",
    "---\n",
    "\n",
    "### **Key Differences**\n",
    "\n",
    "| **Aspect**                | **Cell 11**                                                                 | **Cell 12**                                                                 |\n",
    "|---------------------------|-----------------------------------------------------------------------------|-----------------------------------------------------------------------------|\n",
    "| **Input**                 | Precomputed embedding (via `embedQuery`).                                  | Query string directly.                                                     |\n",
    "| **Embedding Process**     | Embedding is done manually before the search.                              | Embedding is handled internally by `similaritySearchWithScore`.            |\n",
    "| **Method Used**           | `similaritySearchVectorWithScore`.                                         | `similaritySearchWithScore`.                                               |\n",
    "| **Flexibility**           | Allows custom embedding logic or reuse of precomputed embeddings.          | Simpler and more convenient for direct query searches.                     |\n",
    "| **Use Case**              | When you want to control the embedding process or reuse embeddings.         | When you want a quick similarity search with a query string.               |\n",
    "\n",
    "---\n",
    "\n",
    "### Summary\n",
    "- **Cell 11**: You manually embed the query and then perform a similarity search using the embedding.\n",
    "- **Cell 12**: You pass the query string directly, and the vector store handles embedding and searching internally.\n",
    "\n",
    "Both approaches achieve similar results, but **Cell 11** gives you more control over the embedding process, while **Cell 12** is more convenient for quick searches."
   ]
  },
  {
   "cell_type": "code",
   "execution_count": 11,
   "id": "8c2a4c16",
   "metadata": {},
   "outputs": [
    {
     "name": "stdout",
     "output_type": "stream",
     "text": [
      "[\n",
      "  Document {\n",
      "    pageContent: 'Table of Contents\\n' +\n",
      "      'GROSS MARGIN\\n' +\n",
      "      'FISCAL 2023 COMPARED TO FISCAL 2022\\n' +\n",
      "      'For fiscal 2023, our consolidated gross profit increased 4% to $22,292 million compared to $21,479 million for fiscal 2022. Gross margin decreased 250 basis points to\\n' +\n",
      "      '43.5% for fiscal 2023 compared to 46.0% for fiscal 2022 due to the following:\\n' +\n",
      "      '*Wholesale equivalent\\n' +\n",
      "      'The decrease in gross margin for fiscal 2023 was primarily due to:\\n' +\n",
      "      '•Higher NIKE Brand product costs, on a wholesale equivalent basis, primarily due to higher input costs and elevated inbound freight and logistics costs as well as\\n' +\n",
      "      'product mix;\\n' +\n",
      "      '•Lower margin in our NIKE Direct business, driven by higher promotional activity to liquidate inventory in the current period compared to lower promotional activity in\\n' +\n",
      "      'the prior period resulting from lower available inventory supply;\\n' +\n",
      "      '•Unfavorable changes in net foreign currency exchange rates, including hedges; and\\n' +\n",
      "      '•Lower off-price margin, on a wholesale equivalent basis.\\n' +\n",
      "      'This was partially offset by:',\n",
      "    metadata: { source: './data/nke-10k-2023.pdf', pdf: [Object], loc: [Object] },\n",
      "    id: undefined\n",
      "  },\n",
      "  0.7373939525293726\n",
      "]\n"
     ]
    }
   ],
   "source": [
    "const embedding = await embeddings.embedQuery(\n",
    "    \"How were Nike's margins impacted in 2023?\"\n",
    "  );\n",
    "  \n",
    "  const results3 = await vectorStore.similaritySearchVectorWithScore(\n",
    "    embedding,\n",
    "    1\n",
    "  );\n",
    "  \n",
    "  results3[0];"
   ]
  },
  {
   "cell_type": "markdown",
   "id": "f1020990",
   "metadata": {},
   "source": [
    "#### Retrievers"
   ]
  },
  {
   "cell_type": "code",
   "execution_count": 12,
   "id": "b4315958",
   "metadata": {},
   "outputs": [
    {
     "name": "stdout",
     "output_type": "stream",
     "text": [
      "[\n",
      "  [\n",
      "    Document {\n",
      "      pageContent: 'Table of Contents\\n' +\n",
      "        'PART I\\n' +\n",
      "        'ITEM 1. BUSINESS\\n' +\n",
      "        'GENERAL\\n' +\n",
      "        'NIKE, Inc. was incorporated in 1967 under the laws of the State of Oregon. As used in this Annual Report on Form 10-K (this \"Annual Report\"), the terms \"we,\" \"us,\" \"our,\"\\n' +\n",
      "        '\"NIKE\" and the \"Company\" refer to NIKE, Inc. and its predecessors, subsidiaries and affiliates, collectively, unless the context indicates otherwise.\\n' +\n",
      "        'Our principal business activity is the design, development and worldwide marketing and selling of athletic footwear, apparel, equipment, accessories and services. NIKE is\\n' +\n",
      "        'the largest seller of athletic footwear and apparel in the world. We sell our products through NIKE Direct operations, which are comprised of both NIKE-owned retail stores\\n' +\n",
      "        'and sales through our digital platforms (also referred to as \"NIKE Brand Digital\"), to retail accounts and to a mix of independent distributors, licensees and sales',\n",
      "      metadata: [Object],\n",
      "      id: undefined\n",
      "    }\n",
      "  ],\n",
      "  [\n",
      "    Document {\n",
      "      pageContent: 'Table of Contents\\n' +\n",
      "        'FISCAL 2023 NIKE BRAND REVENUE HIGHLIGHTS\\n' +\n",
      "        'The following tables present NIKE Brand revenues disaggregated by reportable operating segment, distribution channel and major product line:\\n' +\n",
      "        'FISCAL 2023 COMPARED TO FISCAL 2022\\n' +\n",
      "        '•NIKE, Inc. Revenues were $51.2 billion in fiscal 2023, which increased 10% and 16% compared to fiscal 2022 on a reported and currency-neutral basis, respectively.\\n' +\n",
      "        'The increase was due to higher revenues in North America, Europe, Middle East & Africa (\"EMEA\"), APLA and Greater China, which contributed approximately 7, 6,\\n' +\n",
      "        '2 and 1 percentage points to NIKE, Inc. Revenues, respectively.\\n' +\n",
      "        '•NIKE Brand revenues, which represented over 90% of NIKE, Inc. Revenues, increased 10% and 16% on a reported and currency-neutral basis, respectively. This\\n' +\n",
      "        \"increase was primarily due to higher revenues in Men's, the Jordan Brand, Women's and Kids' which grew 17%, 35%,11% and 10%, respectively, on a wholesale\\n\" +\n",
      "        'equivalent basis.',\n",
      "      metadata: [Object],\n",
      "      id: undefined\n",
      "    }\n",
      "  ]\n",
      "]\n"
     ]
    }
   ],
   "source": [
    "const retriever = vectorStore.asRetriever({\n",
    "    searchType: \"mmr\",\n",
    "    searchKwargs: {\n",
    "      fetchK: 1,\n",
    "    },\n",
    "  });\n",
    "  \n",
    "  await retriever.batch([\n",
    "    \"When was Nike incorporated?\",\n",
    "    \"What was Nike's revenue in 2023?\",\n",
    "  ]);"
   ]
  }
 ],
 "metadata": {
  "kernelspec": {
   "display_name": "TypeScript",
   "language": "typescript",
   "name": "tslab"
  },
  "language_info": {
   "codemirror_mode": {
    "mode": "typescript",
    "name": "javascript",
    "typescript": true
   },
   "file_extension": ".ts",
   "mimetype": "text/typescript",
   "name": "typescript",
   "version": "3.7.2"
  }
 },
 "nbformat": 4,
 "nbformat_minor": 5
}
